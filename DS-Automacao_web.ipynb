{
 "cells": [
  {
   "cell_type": "markdown",
   "id": "0128dd94",
   "metadata": {},
   "source": [
    "# Automação Web (selenium)\n",
    "\n",
    "- Projeto de automação web que iráautomatizar pesquisa de preços com base em uma planilha de produtos, para esse projeto iremos utilizar a biblioteca Selenium do python.\n",
    "\n",
    "# Entendimento do negócio\n",
    "\n",
    "- Um funcionário trabalha na área de compras de uma empresa e precisa fazer uma comparação de fornecedores para os seus insumos/produtos.\n",
    "\n",
    "- Esse funcionário constantemente busca nos sites desses fornecedores os produtos disponíveis e o preço, afinal, cada um deles pode fazer promoção em momentos diferentes e com valores diferentes.\n",
    "\n",
    "# Objetivo\n",
    "\n",
    "- Seu objetivo: Criar uma pesquisa automática que, irá buscar por produtos com valor abaixo de mercado, valor definido por você, então deve-se criar uma planilha com esses produtos, indicando o preço, nome do produto e link para compra.\n",
    "\n",
    "- Em seguida, vai enviar um e-mail com a lista destes produtos para o setor de compra.\n",
    "\n",
    "- OBS: No nosso caso, vamos fazer com produtos comuns em sites como Google Shopping e Buscapé, mas a ideia é a mesma para outros sites. Essa busca também pode ser feita por APIs.\n",
    "\n",
    "\n",
    "### O que temos disponível?\n",
    "\n",
    "- Planilha de Produtos, com os nomes dos produtos, o preço máximo, o preço mínimo (para evitar produtos \"errados\" ou \"baratos de mais para ser verdade\" e os termos que vamos querer evitar nas nossas buscas.\n"
   ]
  },
  {
   "cell_type": "markdown",
   "id": "5e82aa9d",
   "metadata": {},
   "source": [
    "# Importando bibliotecas"
   ]
  },
  {
   "cell_type": "code",
   "execution_count": 85,
   "id": "bdbdc9b9",
   "metadata": {},
   "outputs": [],
   "source": [
    "from selenium import webdriver\n",
    "from selenium.webdriver.common.keys import Keys\n",
    "from selenium.webdriver.common.by import By\n",
    "\n",
    "import pandas as pd\n"
   ]
  },
  {
   "cell_type": "markdown",
   "id": "5bc78029",
   "metadata": {},
   "source": [
    "# Coleta de dados (PC)"
   ]
  },
  {
   "cell_type": "code",
   "execution_count": 86,
   "id": "a31214d6",
   "metadata": {},
   "outputs": [
    {
     "data": {
      "text/html": [
       "<div>\n",
       "<style scoped>\n",
       "    .dataframe tbody tr th:only-of-type {\n",
       "        vertical-align: middle;\n",
       "    }\n",
       "\n",
       "    .dataframe tbody tr th {\n",
       "        vertical-align: top;\n",
       "    }\n",
       "\n",
       "    .dataframe thead th {\n",
       "        text-align: right;\n",
       "    }\n",
       "</style>\n",
       "<table border=\"1\" class=\"dataframe\">\n",
       "  <thead>\n",
       "    <tr style=\"text-align: right;\">\n",
       "      <th></th>\n",
       "      <th>Nome</th>\n",
       "      <th>Termos banidos</th>\n",
       "      <th>Preço mínimo</th>\n",
       "      <th>Preço máximo</th>\n",
       "    </tr>\n",
       "  </thead>\n",
       "  <tbody>\n",
       "    <tr>\n",
       "      <th>0</th>\n",
       "      <td>iphone 12 64 gb</td>\n",
       "      <td>mini watch</td>\n",
       "      <td>3000</td>\n",
       "      <td>3500</td>\n",
       "    </tr>\n",
       "    <tr>\n",
       "      <th>1</th>\n",
       "      <td>rtx 3060</td>\n",
       "      <td>zota galax</td>\n",
       "      <td>4000</td>\n",
       "      <td>4500</td>\n",
       "    </tr>\n",
       "  </tbody>\n",
       "</table>\n",
       "</div>"
      ],
      "text/plain": [
       "              Nome Termos banidos  Preço mínimo  Preço máximo\n",
       "0  iphone 12 64 gb     mini watch          3000          3500\n",
       "1         rtx 3060     zota galax          4000          4500"
      ]
     },
     "metadata": {},
     "output_type": "display_data"
    }
   ],
   "source": [
    "tabela_prod = pd.read_excel(\"buscas.xlsx\")\n",
    "display(tabela_prod)"
   ]
  },
  {
   "cell_type": "markdown",
   "id": "731b25c6",
   "metadata": {},
   "source": [
    "# Coleta de dados (WEB)"
   ]
  },
  {
   "cell_type": "code",
   "execution_count": 87,
   "id": "eaf3e729",
   "metadata": {},
   "outputs": [],
   "source": [
    "# criando o navegador\n",
    "nav = webdriver.Chrome()\n",
    "nav.get(\"https://www.google.com.br/\")\n",
    "\n",
    "# pegar produto a pesquisar da tabela\n",
    "produto = \"iphone 12 64 gb\"\n",
    "termos_banidos = \"mini watch\"\n",
    "# tratar as palavras para deixa-las minusculas\n",
    "produto = produto.lower()\n",
    "termos_banidos = termos_banidos.lower()\n",
    "\n",
    "# criando lista de termos banidos (split remove espacos e cria lista com nomes)\n",
    "lista_term_banidos = termos_banidos.split(' ')\n",
    "lista_term_prod = produto.split(' ')\n",
    "preco_min = 3000\n",
    "preco_max = 3500\n",
    "\n",
    "# Vai no input e digita o produto\n",
    "nav.find_element(By.XPATH, \"/html/body/div[1]/div[3]/form/div[1]/div[1]/div[1]/div/div[2]/input\").send_keys(produto) \n",
    "# dar um enter\n",
    "nav.find_element(By.XPATH, \"/html/body/div[1]/div[3]/form/div[1]/div[1]/div[1]/div/div[2]/input\").send_keys(Keys.ENTER) \n",
    "# clicar em shopping: para shopping vamos pegar todos elementos\n",
    "# da classe \"hdtb-mitem\" e procurar por \"shopping\" usando \"elementS\"\n",
    "elementos = nav.find_elements(By.CLASS_NAME, \"hdtb-mitem\")\n",
    "for item in elementos:\n",
    "    if \"Shopping\" in item.text:\n",
    "        item.click()\n",
    "        break #paramos pois pode ter mais de um item\n",
    "\n",
    "# pegar preços, nome e link, pra isso vamos buscar dentro de uma\n",
    "# div que contém todos esses elementos\n",
    "\n",
    "# elemento div\n",
    "lista_resultado = nav.find_elements(By.CLASS_NAME, \"sh-dgr__grid-result\")\n",
    "\n",
    " \n",
    "\n",
    "\n",
    "\n"
   ]
  },
  {
   "cell_type": "code",
   "execution_count": 90,
   "id": "55df867b",
   "metadata": {},
   "outputs": [
    {
     "name": "stdout",
     "output_type": "stream",
     "text": [
      "3500.0 iphone 12 64gb azul menos de 1 ano de uso https://www.google.com.br/url?url=https://mg.olx.com.br/belo-horizonte-e-regiao/celulares/iphone-12-64gb-azul-menos-de-1-ano-de-uso-1124387369&rct=j&q=&esrc=s&sa=U&ved=0ahUKEwjxk5qehK38AhUtIbkGHfqHCfsQgOUECJUM&usg=AOvVaw1yWCIHZydIaedyqrCKrla5\n",
      "3329.1 iphone 12 64gb - azul - estou zerado https://www.google.com.br/url?url=https://www.trocafy.com.br/iphone-12-64gb-azul-sou-como-novo-2552/p%3Fidsku%3D966%26srsltid%3DAeTuncoqiW45hsTptbwUx9doQc0nmoqN5395GhyvNvsrZoEXlrL4eZD1HzY&rct=j&q=&esrc=s&sa=U&ved=0ahUKEwjxk5qehK38AhUtIbkGHfqHCfsQguUECKYM&usg=AOvVaw3SYgjd6dyKz1xK9HkQ8LUN\n",
      "3399.15 (seminovos) iphone 12 apple azul, 64gb https://www.google.com.br/url?url=https://www.taqi.com.br/seminovo-iphone12-apple-azul64gb-nacional/220673%3Fsrsltid%3DAeTuncoUV_2YQMFzucCLjQyMSbdgPNA-0sUfFUbRY46XSNHNlM52uL1J-U4&rct=j&q=&esrc=s&sa=U&ved=0ahUKEwjxk5qehK38AhUtIbkGHfqHCfsQgOUECJAP&usg=AOvVaw3IKH7z0ltpgMbprm5_sM8d\n",
      "3399.15 (seminovos) iphone 12 apple preto, 64gb https://www.google.com.br/url?url=https://www.taqi.com.br/seminovos-usado-apple-iphone-12-preto-nacional/221635%3Fsrsltid%3DAeTuncpjZznHyGriIORsd67s0RIiRmGiucq9b1m9C98LOPeQJ3ZmQWfyzes&rct=j&q=&esrc=s&sa=U&ved=0ahUKEwjxk5qehK38AhUtIbkGHfqHCfsQgOUECI0Q&usg=AOvVaw2b6487zRUGbz1f02u4smDd\n",
      "3495.0 iphone 12 64gb branco seminovo novinho https://www.google.com.br/url?url=https://www.ztcompras.com/produtos/iphone-12-64gb-branco-seminovo-novinho/&rct=j&q=&esrc=s&sa=U&ved=0ahUKEwjxk5qehK38AhUtIbkGHfqHCfsQgOUECMoQ&usg=AOvVaw0BHI3HK83s4TojoUpe8tB4\n",
      "3399.15 (seminovos) iphone 12 apple branco, 64gb https://www.google.com.br/url?url=https://www.taqi.com.br/seminovos-apple-iphone12-64gb/220684%3Fsrsltid%3DAeTuncooiGb7SLgZMiLEdMPRAeDpuTeIP4jweJktjL5tKqBQDdrOVcZm_hk&rct=j&q=&esrc=s&sa=U&ved=0ahUKEwjxk5qehK38AhUtIbkGHfqHCfsQgOUECIgR&usg=AOvVaw0f7BeIOtHvEKV2JIL1ryep\n",
      "3000.0 iphone 11 apple (64gb) verde, tela de 6,1\", 4g e câmera de 12 mp https://www.google.com.br/url?url=https://xn--vulcaninformtica-qmb.com/products/iphone-11-apple-64gb-verde-tela-de-6-1-4g-e-camera-de-12-mp%3Fvariant%3D44206015709460%26currency%3DBRL%26utm_medium%3Dproduct_sync%26utm_source%3Dgoogle%26utm_content%3Dsag_organic%26utm_campaign%3Dsag_organic&rct=j&q=&esrc=s&sa=U&ved=0ahUKEwjxk5qehK38AhUtIbkGHfqHCfsQgOUECPUR&usg=AOvVaw1I8-3jIVZi8Xxmc5-MD1ii\n"
     ]
    }
   ],
   "source": [
    "# dentro de cada div procura os elementos\n",
    "for resultado in lista_resultado:\n",
    "    nome = resultado.find_element(By.CLASS_NAME, 'tAxDx').text\n",
    "    # so deixando em minusculo para comparação\n",
    "    nome = nome.lower()\n",
    "    \n",
    "    #criar um filtro para os termos banidos\n",
    "    tem_termos_banidos = False\n",
    "    for palavra in lista_term_banidos:\n",
    "        if palavra in nome:\n",
    "            tem_termos_banidos = True  \n",
    "            \n",
    "    tem_todos_termos_produto = True\n",
    "    for palavra in lista_term_prod:\n",
    "        if palavra not in nome:\n",
    "            tem_todos_termos_produto = False\n",
    "    \n",
    "    if tem_termos_banidos == False and tem_todos_termos_produto == True:\n",
    "        # se tem_termos_banidos = false e tem_todos _termos_produto = true continua\n",
    "        # tratar o preço para comparação\n",
    "        preco = resultado.find_element(By.CLASS_NAME, 'a8Pemb').text\n",
    "        preco = preco.replace('R$', '').replace(' ', '').replace('.', '').replace(',', '.')\n",
    "        if preco != \"\":\n",
    "            preco = float(preco)\n",
    "            \n",
    "        # verificar se o preço está na faixa:\n",
    "        preco_max = float(preco_max)\n",
    "        preco_min = float(preco_min)\n",
    "        if preco_min <= preco <= preco_max:      \n",
    "            # pelo modo abaixo nao deu certo pegar o link, vamos para outra forma\n",
    "            # link = resultado.find_element(By.CLASS_NAME, 'shntl').get_attribute('href')\n",
    "            # entao vamos pegar o link pelo PARENT de outro elemento\n",
    "            elemento_link = resultado.find_element(By.CLASS_NAME,'aULzUe')\n",
    "            # XPATH \"..\" é o elemento pai que está acima do filho\n",
    "            elemento_pai = elemento_link.find_element(By.XPATH,'..')\n",
    "            link = elemento_pai.get_attribute('href')\n",
    "            print(preco, nome, link)"
   ]
  },
  {
   "cell_type": "code",
   "execution_count": null,
   "id": "a673caeb",
   "metadata": {},
   "outputs": [],
   "source": []
  }
 ],
 "metadata": {
  "kernelspec": {
   "display_name": "Python 3 (ipykernel)",
   "language": "python",
   "name": "python3"
  },
  "language_info": {
   "codemirror_mode": {
    "name": "ipython",
    "version": 3
   },
   "file_extension": ".py",
   "mimetype": "text/x-python",
   "name": "python",
   "nbconvert_exporter": "python",
   "pygments_lexer": "ipython3",
   "version": "3.9.12"
  }
 },
 "nbformat": 4,
 "nbformat_minor": 5
}
